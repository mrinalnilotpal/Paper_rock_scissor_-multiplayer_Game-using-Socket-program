{
 "cells": [
  {
   "cell_type": "markdown",
   "metadata": {},
   "source": [
    "#                  CS210 COMPUTER NETWORKS LABORATORY      \n",
    "\n",
    "\n",
    "###       \"ROCK, SCISSORS AND PAPER GAMING Using SOCKET programming\"\n",
    "## presented by \n",
    "## NILOTPAL MRINAL(CS18B1041)\n"
   ]
  },
  {
   "cell_type": "markdown",
   "metadata": {},
   "source": [
    "Rock paper scissors) is a hand game usually played between two people, in which each player simultaneously forms one of three shapes with an outstretched hand. These shapes are \"rock\" (a closed fist), \"paper\" (a flat hand), and \"scissors\" (a fist with the index finger and middle finger extended, forming a V). \"Scissors\" is identical to the two-fingered V sign (also indicating \"victory\" or \"peace\") except that it is pointed horizontally instead of being held upright in the air. A simultaneous, zero-sum game, it has only two possible outcomes: a draw, or a win for one player and a loss for the other"
   ]
  },
  {
   "cell_type": "markdown",
   "metadata": {},
   "source": [
    "Our code has two parts, one is game server program and another is client side program. We have tried to modularise our code to the maximum for two good reasons-\n",
    "1. presentation becomes easy and the code will become highly intuitive. \n",
    "2. since presentation is online, a technical glitch would not affect much as most of the contents will be explained to the right granularity."
   ]
  },
  {
   "cell_type": "code",
   "execution_count": 19,
   "metadata": {},
   "outputs": [],
   "source": [
    "# This code is written by Nilotpal Mrinal(CS18B1041) on 10-06-2020.\n",
    "# lets begin with importing necessary packages first.\n",
    "\n",
    "import tkinter as tk                              #Python package for GUI.\n",
    "import threading                                  # To make the program multitasking by doing operations simultaneously.\n",
    "import socket                                     # socket is a python package for data communication and resource sharing.\n",
    "from time import sleep                            # to use timing features\n",
    "\n"
   ]
  },
  {
   "cell_type": "markdown",
   "metadata": {},
   "source": [
    "We shall now turn our attention to the design of GUI and integrating functions in between. First we will design a window with a seperate blocks of code for top, middle and bottom portion design."
   ]
  },
  {
   "cell_type": "code",
   "execution_count": 20,
   "metadata": {},
   "outputs": [],
   "source": [
    "# We are generating a window with the code below and the top part of it.\n",
    "\n",
    "window = tk.Tk()\n",
    "window.title(\"Server\")\n",
    "\n",
    "# We plan to provide two buttons on the top frame.\n",
    "tpFram = tk.Frame(window)\n",
    "btSt = tk.Button(tpFram, text=\"Start\", command=lambda : stat_serv())\n",
    "btSt.pack(side=tk.LEFT)\n",
    "btStp = tk.Button(tpFram, text=\"Stop\", command=lambda : stp_serv(), state=tk.DISABLED)\n",
    "btStp.pack(side=tk.LEFT)\n",
    "tpFram.pack(side=tk.TOP, pady=(5, 0))"
   ]
  },
  {
   "cell_type": "markdown",
   "metadata": {},
   "source": [
    "we will move to the middle frame design of the window."
   ]
  },
  {
   "cell_type": "code",
   "execution_count": 21,
   "metadata": {},
   "outputs": [],
   "source": [
    "# Middle frame consisting of two labels for displaying the host and port info\n",
    "mf = tk.Frame(window)\n",
    "lablHost = tk.Label(mf, text = \"Address: localhost\")\n",
    "lablHost.pack(side=tk.LEFT)\n",
    "lablPort = tk.Label(mf, text = \"Port:8085\")\n",
    "lablPort.pack(side=tk.LEFT)\n",
    "mf.pack(side=tk.TOP, pady=(5, 0))"
   ]
  },
  {
   "cell_type": "markdown",
   "metadata": {},
   "source": [
    "we will now add client area which will be a background with slightly grey colour area. We are also adding scrollbar to show the indexing of the number of users."
   ]
  },
  {
   "cell_type": "code",
   "execution_count": 22,
   "metadata": {},
   "outputs": [],
   "source": [
    "# The client frame shows the client area\n",
    "clientFrame = tk.Frame(window)\n",
    "lblLine = tk.Label(clientFrame, text=\"**********Client List**********\").pack()\n",
    "scrollBar = tk.Scrollbar(clientFrame)\n",
    "scrollBar.pack(side=tk.RIGHT, fill=tk.Y)\n",
    "tkDisplay = tk.Text(clientFrame, height=10, width=30)\n",
    "tkDisplay.pack(side=tk.LEFT, fill=tk.Y, padx=(5, 0))\n",
    "scrollBar.config(command=tkDisplay.yview)\n",
    "tkDisplay.config(yscrollcommand=scrollBar.set, background=\"#F4F6F7\", highlightbackground=\"grey\", state=\"disabled\")\n",
    "clientFrame.pack(side=tk.BOTTOM, pady=(5, 10))"
   ]
  },
  {
   "cell_type": "markdown",
   "metadata": {},
   "source": [
    "Next we move our focus to build two functions for servers to start and stop server.\n",
    "1. stat_serv()\n",
    "2. stp_serv()"
   ]
  },
  {
   "cell_type": "code",
   "execution_count": 23,
   "metadata": {},
   "outputs": [
    {
     "name": "stderr",
     "output_type": "stream",
     "text": [
      "Unhandled exception in thread started by <function send_receive_client_message at 0x0000024180004DC8>\n",
      "Unhandled exception in thread started by <function send_receive_client_message at 0x0000024180004DC8>\n"
     ]
    }
   ],
   "source": [
    "server = None\n",
    "\n",
    "player_data = []\n",
    "client_name = \" \"\n",
    "clients = []\n",
    "HST_ADR = \"localhost\"\n",
    "HST_PRT = 56347\n",
    "clients_names = []\n",
    "\n",
    "\n",
    "# function to start the server.\n",
    "def stat_serv():\n",
    "    global server, HST_ADR, HST_PRT \n",
    "    \n",
    "    btSt.config(state=tk.DISABLED)\n",
    "    btStp.config(state=tk.NORMAL)\n",
    "\n",
    "    server = socket.socket(socket.AF_INET, socket.SOCK_STREAM)\n",
    "    print (socket.AF_INET)\n",
    "    print (socket.SOCK_STREAM)\n",
    "\n",
    "    server.bind((HST_ADR, HST_PRT))\n",
    "    server.listen(5)  # server is listening for client connection\n",
    "\n",
    "    threading._start_new_thread(accept_clients, (server, \" \"))\n",
    "\n",
    "    lablHost[\"text\"] = \"Address: \" + HST_ADR\n",
    "    lablPort[\"text\"] = \"Port: \" + str(HST_PRT)\n",
    "\n",
    "\n",
    "# Function to stop the server.\n",
    "def stp_serv():\n",
    "    global server\n",
    "    btSt.config(state=tk.NORMAL)\n",
    "    btStp.config(state=tk.DISABLED)\n"
   ]
  },
  {
   "cell_type": "markdown",
   "metadata": {},
   "source": [
    "Now comes the central idea of the server model and with this we are directly entering into the core of Server model. Below we define two functions-\n",
    "1. send_receive_client_message\n",
    "2. accept_clients\n",
    "\n",
    "These two functions gives us an intuitive picture of the working of socket package."
   ]
  },
  {
   "cell_type": "code",
   "execution_count": 24,
   "metadata": {},
   "outputs": [],
   "source": [
    "# Function to accept clients\n",
    "def accept_clients(the_server, y):\n",
    "    while True:\n",
    "        if len(clients) < 2:\n",
    "            client, addr = the_server.accept()\n",
    "            clients.append(client)\n",
    "\n",
    "            # use a thread so as not to clog the gui thread\n",
    "            threading._start_new_thread(send_receive_client_message, (client, addr))\n",
    "\n",
    "# Function to receive message from current client AND\n",
    "# Send that message to other clients\n",
    "def send_receive_client_message(client_connection, client_ip_addr):\n",
    "    global server, client_name, clients, player_data, player0, player1\n",
    "\n",
    "    client_msg = \" \"\n",
    "\n",
    "    # send welcome message to client\n",
    "    client_name = client_connection.recv(4096)\n",
    "    if len(clients) < 2:\n",
    "        client_connection.send(\"welcome1\")\n",
    "    else:\n",
    "        client_connection.send(\"welcome2\")\n",
    "\n",
    "    clients_names.append(client_name)\n",
    "    update_client_names_display(clients_names)  # update client names display\n",
    "\n",
    "    if len(clients) > 1:\n",
    "        sleep(1)\n",
    "\n",
    "        # send opponent name\n",
    "        clients[0].send(\"opponent_name$\" + clients_names[1])\n",
    "        clients[1].send(\"opponent_name$\" + clients_names[0])\n",
    "        # go to sleep\n",
    "\n",
    "    while True:\n",
    "        data = client_connection.recv(4096)\n",
    "        if not data: break\n",
    "\n",
    "        # get the player choice from received data\n",
    "        player_choice = data[11:len(data)]\n",
    "\n",
    "        msg = {\n",
    "            \"choice\": player_choice,\n",
    "            \"socket\": client_connection\n",
    "        }\n",
    "\n",
    "        if len(player_data) < 2:\n",
    "            player_data.append(msg)\n",
    "\n",
    "        if len(player_data) == 2:\n",
    "            # send player 1 choice to player 2 and vice versa\n",
    "            player_data[0].get(\"socket\").send(\"$opponent_choice\" + player_data[1].get(\"choice\"))\n",
    "            player_data[1].get(\"socket\").send(\"$opponent_choice\" + player_data[0].get(\"choice\"))\n",
    "\n",
    "            player_data = []\n",
    "\n",
    "    # find the client index then remove from both lists(client name list and connection list)\n",
    "    idx = get_client_index(clients, client_connection)\n",
    "    del clients_names[idx]\n",
    "    del clients[idx]\n",
    "    client_connection.close()\n",
    "\n",
    "    update_client_names_display(clients_names)  # update client names display\n"
   ]
  },
  {
   "cell_type": "code",
   "execution_count": 25,
   "metadata": {},
   "outputs": [],
   "source": [
    "# Return the index of the current client in the list of clients\n",
    "def get_client_index(client_list, curr_client):\n",
    "    idx = 0\n",
    "    for conn in client_list:\n",
    "        if conn == curr_client:\n",
    "            break\n",
    "        idx = idx + 1\n",
    "\n",
    "    return idx\n",
    "\n",
    "\n",
    "# Update client name display when a new client connects OR\n",
    "# When a connected client disconnects\n",
    "def update_client_names_display(name_list):\n",
    "    tkDisplay.config(state=tk.NORMAL)\n",
    "    tkDisplay.delete('1.0', tk.END)\n",
    "\n",
    "    for c in name_list:\n",
    "        tkDisplay.insert(tk.END, c+\"\\n\")\n",
    "    tkDisplay.config(state=tk.DISABLED)\n",
    "\n",
    "\n",
    "window.mainloop()"
   ]
  },
  {
   "cell_type": "markdown",
   "metadata": {},
   "source": [
    "With the abouve code the window.mainloop() will run infinitely untill the user selects connect or halts the program manually. In the next part of this presentation we will explore the client model and see its working. "
   ]
  },
  {
   "cell_type": "markdown",
   "metadata": {},
   "source": [
    "# End of Server program."
   ]
  },
  {
   "cell_type": "code",
   "execution_count": null,
   "metadata": {},
   "outputs": [],
   "source": []
  }
 ],
 "metadata": {
  "kernelspec": {
   "display_name": "Python 3",
   "language": "python",
   "name": "python3"
  },
  "language_info": {
   "codemirror_mode": {
    "name": "ipython",
    "version": 3
   },
   "file_extension": ".py",
   "mimetype": "text/x-python",
   "name": "python",
   "nbconvert_exporter": "python",
   "pygments_lexer": "ipython3",
   "version": "3.7.4"
  }
 },
 "nbformat": 4,
 "nbformat_minor": 2
}
